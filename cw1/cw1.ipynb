{
 "cells": [
  {
   "cell_type": "code",
   "execution_count": 10,
   "metadata": {},
   "outputs": [],
   "source": [
    "#import libraries\n",
    "import tensorflow as tf\n",
    "import torch"
   ]
  },
  {
   "cell_type": "markdown",
   "metadata": {},
   "source": [
    "#Task 1: Stochastic Gradient Descent"
   ]
  },
  {
   "cell_type": "markdown",
   "metadata": {},
   "source": [
    "##Implement a polynomial function polynomial_fun, that takes two input arguments, a weight vector w of size M+1 and an input scalar variable x, and returns the function value y"
   ]
  },
  {
   "cell_type": "code",
   "execution_count": 14,
   "metadata": {},
   "outputs": [],
   "source": [
    "def polynomial_fun(w,x):\n",
    "    m = len(w)\n",
    "    y = torch.zeros(m)\n",
    "\n",
    "    for i in range(m):\n",
    "        y[i] = w[i]*x**i\n",
    "\n",
    "    return y"
   ]
  },
  {
   "cell_type": "markdown",
   "metadata": {},
   "source": [
    "##Using linear algebra modules in Tensorflow/PyTorch implement a least square solver for fitting the polyomial functions, fit_polynoial_ls, which takes N pairs of x and target values t as input, with an additional input argument to specify the polynomial degree M, and returns the optimum weight vector in least square sense."
   ]
  },
  {
   "cell_type": "code",
   "execution_count": 16,
   "metadata": {},
   "outputs": [
    {
     "data": {
      "text/plain": [
       "tensor([1., 2., 3.])"
      ]
     },
     "execution_count": 16,
     "metadata": {},
     "output_type": "execute_result"
    }
   ],
   "source": [
    "#scratch\n",
    "x = 1\n",
    "w = (1,2,3)\n",
    "\n",
    "polynomial_fun(w,x)"
   ]
  }
 ],
 "metadata": {
  "interpreter": {
   "hash": "5afa7924572cd6c7a930d7ef95861535e4abe76324ebec577ecc14b634e14ac8"
  },
  "kernelspec": {
   "display_name": "Python 3.9.7 64-bit ('comp0090-cw1': conda)",
   "language": "python",
   "name": "python3"
  },
  "language_info": {
   "codemirror_mode": {
    "name": "ipython",
    "version": 3
   },
   "file_extension": ".py",
   "mimetype": "text/x-python",
   "name": "python",
   "nbconvert_exporter": "python",
   "pygments_lexer": "ipython3",
   "version": "3.9.7"
  },
  "orig_nbformat": 4
 },
 "nbformat": 4,
 "nbformat_minor": 2
}
