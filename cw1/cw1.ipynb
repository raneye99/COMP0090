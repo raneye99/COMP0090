{
 "cells": [
  {
   "cell_type": "code",
   "execution_count": 138,
   "metadata": {},
   "outputs": [],
   "source": [
    "#import libraries\n",
    "# import tensorflow as tf\n",
    "import torch\n",
    "from torch.autograd import Variable\n",
    "# torch.__version__"
   ]
  },
  {
   "cell_type": "markdown",
   "metadata": {},
   "source": [
    "#Task 1: Stochastic Gradient Descent"
   ]
  },
  {
   "cell_type": "markdown",
   "metadata": {},
   "source": [
    "##Implement a polynomial function polynomial_fun, that takes two input arguments, a weight vector w of size M+1 and an input scalar variable x, and returns the function value y"
   ]
  },
  {
   "cell_type": "code",
   "execution_count": 109,
   "metadata": {},
   "outputs": [],
   "source": [
    "def polynomial_fun(w,x):\n",
    "    '''\n",
    "    Inputs:\n",
    "    w = tensor of weights\n",
    "    x = tesnor of scalar values of x, our r.v.\n",
    "\n",
    "    Outpus:\n",
    "    y = tensor of the sum of our polynomial fit\n",
    "    '''\n",
    "    \n",
    "    m = len(w)\n",
    "    n = len(x)\n",
    "\n",
    "    basis = Variable(torch.zeros([n,m]))\n",
    "\n",
    "    for i in range(m):\n",
    "        basis[:,i] = torch.pow(x,i)\n",
    "\n",
    "    y = torch.sum(w*basis,1)   \n",
    "\n",
    "    return y"
   ]
  },
  {
   "cell_type": "markdown",
   "metadata": {},
   "source": [
    "##Using linear algebra modules in Tensorflow/PyTorch implement a least square solver for fitting the polyomial functions, fit_polynoial_ls, which takes N pairs of x and target values t as input, with an additional input argument to specify the polynomial degree M, and returns the optimum weight vector in least square sense."
   ]
  },
  {
   "cell_type": "code",
   "execution_count": 174,
   "metadata": {},
   "outputs": [],
   "source": [
    "def fit_polynomial_ls(X,t,M):\n",
    "    '''\n",
    "    Inputs:\n",
    "    t = tensor of target value\n",
    "    X = tensor of scalar values of x, our r.v.\n",
    "    M = how many powers in our polynomial fit\n",
    "\n",
    "    Outpus:\n",
    "    w = tensor of weight values\n",
    "    '''\n",
    "\n",
    "    #initialize empty vector to store feature map of basis functions\n",
    "    n = len(X)\n",
    "    basis = Variable(torch.zeros([n,M]))\n",
    "\n",
    "    for i in range(M):\n",
    "        basis[:,i] = torch.pow(X,i)\n",
    "\n",
    "    #solve for weights: w = (X.T * X)^-1 *X.T*y\n",
    "    A = torch.matmul(basis.T, basis)\n",
    "    b = torch.matmul(basis.T, t)\n",
    "\n",
    "    w = torch.matmul(torch.linalg.torch.inverse(A),b)\n",
    "\n",
    "    return w\n"
   ]
  },
  {
   "cell_type": "markdown",
   "metadata": {},
   "source": [
    "##Implement a stochastic minibatch gradient descent algorithm for fitting polynomial functions which has the same input as fit_polynomial_ls with additional 2 input arguments: learning rate and minibatch size. The function also returns the optimum w and during training should report the loss periodically using printed messages."
   ]
  },
  {
   "cell_type": "code",
   "execution_count": null,
   "metadata": {},
   "outputs": [],
   "source": [
    "def fit_polynomial_sgd(X,t,M, learn_rate, batch_size):\n",
    "    "
   ]
  },
  {
   "cell_type": "markdown",
   "metadata": {},
   "source": [
    "###task script:"
   ]
  },
  {
   "cell_type": "markdown",
   "metadata": {},
   "source": [
    "#### \n",
    "Use polynomial_fun(M=3,w=(1,2,3,4)) to generate a training set and a test set in the form of respectively sampled 100 and 50 pairs x, x in [20,20] and observed t. The observed t values are obtained by adding gaussian noise, std = .2 to y"
   ]
  },
  {
   "cell_type": "code",
   "execution_count": 179,
   "metadata": {},
   "outputs": [],
   "source": [
    "w = torch.tensor([1,2,3,4])\n",
    "\n",
    "x_train = torch.distributions.uniform.Uniform(-20,20).sample([100,])\n",
    "x_test =  torch.distributions.uniform.Uniform(-20,20).sample([50,])\n",
    "\n",
    "y_train = polynomial_fun(w,x_train) + torch.normal(0,.2, size = x_train.shape)\n",
    "y_test = polynomial_fun(w,x_test) + torch.normal(0,.2,size = x_test.shape)"
   ]
  },
  {
   "cell_type": "markdown",
   "metadata": {},
   "source": [
    "####\n",
    "Use fit_polynomial_ls(M=4) to compute the optimum weight vector w using the trianing set. Then predict target values for trianing and test set."
   ]
  },
  {
   "cell_type": "code",
   "execution_count": 182,
   "metadata": {},
   "outputs": [],
   "source": [
    "\n",
    "w_hat = fit_polynomial_ls(x_train,y_train,4)\n",
    "y_train_hat = polynomial_fun(x_train,w_hat)\n",
    "y_test_hat = polynomial_fun(x_test,w_hat)"
   ]
  },
  {
   "cell_type": "markdown",
   "metadata": {},
   "source": [
    "####\n",
    "Report using printed messages the meand and std in difference betwen A) the observed training data and the underlying true polynomial curve and B) the predicted values and the true polynomial curve"
   ]
  },
  {
   "cell_type": "code",
   "execution_count": null,
   "metadata": {},
   "outputs": [],
   "source": []
  }
 ],
 "metadata": {
  "interpreter": {
   "hash": "5afa7924572cd6c7a930d7ef95861535e4abe76324ebec577ecc14b634e14ac8"
  },
  "kernelspec": {
   "display_name": "Python 3.9.7 64-bit ('comp0090-cw1': conda)",
   "language": "python",
   "name": "python3"
  },
  "language_info": {
   "codemirror_mode": {
    "name": "ipython",
    "version": 3
   },
   "file_extension": ".py",
   "mimetype": "text/x-python",
   "name": "python",
   "nbconvert_exporter": "python",
   "pygments_lexer": "ipython3",
   "version": "3.9.7"
  },
  "orig_nbformat": 4
 },
 "nbformat": 4,
 "nbformat_minor": 2
}
